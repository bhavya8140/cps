{
 "cells": [
  {
   "cell_type": "code",
   "execution_count": 2,
   "id": "9bfac6d3-a92c-4511-923d-9888fab5b995",
   "metadata": {},
   "outputs": [
    {
     "name": "stdin",
     "output_type": "stream",
     "text": [
      "enter the side value 8\n"
     ]
    },
    {
     "name": "stdout",
     "output_type": "stream",
     "text": [
      "64\n"
     ]
    }
   ],
   "source": [
    "side=int(input(\"enter the side value\"))\n",
    "print(side*side)"
   ]
  },
  {
   "cell_type": "code",
   "execution_count": 8,
   "id": "b8a7e171-4f05-451f-b454-704c376ab318",
   "metadata": {},
   "outputs": [
    {
     "name": "stdin",
     "output_type": "stream",
     "text": [
      "enter the value of number 77\n"
     ]
    },
    {
     "name": "stdout",
     "output_type": "stream",
     "text": [
      "divisible by seven\n"
     ]
    }
   ],
   "source": [
    "a=int(input(\"enter the value of number\"))\n",
    "if a%7==0 :\n",
    "   print(\"divisible by seven\")\n",
    "else :\n",
    "   print(\"not divisible by seven\")"
   ]
  },
  {
   "cell_type": "code",
   "execution_count": 12,
   "id": "5eef4d79-4f07-4968-b040-f4b8f604b569",
   "metadata": {},
   "outputs": [
    {
     "name": "stdin",
     "output_type": "stream",
     "text": [
      "enter the value of number 45\n"
     ]
    },
    {
     "name": "stdout",
     "output_type": "stream",
     "text": [
      "not divisible \n"
     ]
    }
   ],
   "source": [
    "a=int(input(\"enter the value of number\"))\n",
    "if a%5==0 :\n",
    "    if a%7==0:\n",
    "        print(\"divisible\")\n",
    "    else:\n",
    "        print(\"not divisible \")\n",
    "else:\n",
    "    print(\"not divisible\")\n"
   ]
  },
  {
   "cell_type": "code",
   "execution_count": 15,
   "id": "c7893588-b9ef-4266-9b8d-756eefccc72b",
   "metadata": {},
   "outputs": [
    {
     "name": "stdin",
     "output_type": "stream",
     "text": [
      "enter the value of number1 8\n",
      "enter the value of number2 2\n"
     ]
    },
    {
     "name": "stdout",
     "output_type": "stream",
     "text": [
      "10\n",
      "6\n",
      "16\n",
      "4.0\n"
     ]
    }
   ],
   "source": [
    "a=int(input(\"enter the value of number1\"))\n",
    "b=int(input(\"enter the value of number2\"))\n",
    "print(a+b)\n",
    "print(a-b)\n",
    "print(a*b)\n",
    "print(a/b)\n"
   ]
  },
  {
   "cell_type": "code",
   "execution_count": 17,
   "id": "835b42d5-8234-42a4-b50b-0b688bd1b6c3",
   "metadata": {},
   "outputs": [
    {
     "name": "stdin",
     "output_type": "stream",
     "text": [
      "enter the value of number1 7\n",
      "enter the value of number2 8\n",
      "enter the value of number3 1\n"
     ]
    },
    {
     "name": "stdout",
     "output_type": "stream",
     "text": [
      "16\n"
     ]
    }
   ],
   "source": [
    "a=int(input(\"enter the value of number1\"))\n",
    "b=int(input(\"enter the value of number2\"))\n",
    "c=int(input(\"enter the value of number3\"))\n",
    "print(a+b+c)"
   ]
  },
  {
   "cell_type": "code",
   "execution_count": 18,
   "id": "5d5f810b-5e00-4efb-bf2a-68d6f6a2ba92",
   "metadata": {},
   "outputs": [
    {
     "name": "stdin",
     "output_type": "stream",
     "text": [
      "enter the value of number1 3\n",
      "enter the value of number2 4\n"
     ]
    },
    {
     "name": "stdout",
     "output_type": "stream",
     "text": [
      "14\n"
     ]
    }
   ],
   "source": [
    "a=int(input(\"enter the value of number1\"))\n",
    "b=int(input(\"enter the value of number2\"))\n",
    "print((a+b)*2)"
   ]
  },
  {
   "cell_type": "code",
   "execution_count": 21,
   "id": "1cfc1c98-67de-4804-a4a3-b1fe5fa8bedb",
   "metadata": {},
   "outputs": [
    {
     "name": "stdin",
     "output_type": "stream",
     "text": [
      "enter the value of number 2\n"
     ]
    },
    {
     "name": "stdout",
     "output_type": "stream",
     "text": [
      "12.56\n"
     ]
    }
   ],
   "source": [
    "a=int(input(\"enter the value of number\"))\n",
    "print(3.14*a*a)"
   ]
  },
  {
   "cell_type": "code",
   "execution_count": 22,
   "id": "9afefaf5-84d5-4af0-85bb-9c1dc1ef3465",
   "metadata": {},
   "outputs": [
    {
     "name": "stdin",
     "output_type": "stream",
     "text": [
      "enter the value of number1 3\n",
      "enter the value of number2 4\n",
      "enter the value of number3 5\n"
     ]
    },
    {
     "name": "stdout",
     "output_type": "stream",
     "text": [
      "-44\n"
     ]
    }
   ],
   "source": [
    "a=int(input(\"enter the value of number1\"))\n",
    "b=int(input(\"enter the value of number2\"))\n",
    "c=int(input(\"enter the value of number3\"))\n",
    "print(b**2-4*a*c)"
   ]
  },
  {
   "cell_type": "code",
   "execution_count": 33,
   "id": "7ac33135-4083-4f5c-a2c9-4b03c0e8a382",
   "metadata": {},
   "outputs": [
    {
     "name": "stdin",
     "output_type": "stream",
     "text": [
      "chose a number 1. for Addition, 2. for subtraction, 3. for multiplication and 4. for division 7\n"
     ]
    },
    {
     "name": "stdout",
     "output_type": "stream",
     "text": [
      "invalid\n"
     ]
    }
   ],
   "source": [
    "a=int(input(\"chose a number 1. for Addition, 2. for subtraction, 3. for multiplication and 4. for division\"))\n",
    "\n",
    "if a==1:\n",
    "    b=int(input(\"enter the value of number1\"))\n",
    "    c=int(input(\"enter the value of number2 \"))\n",
    "    print(b+c)\n",
    "elif a==2:\n",
    "    b=int(input(\"enter the value of number1\"))\n",
    "    c=int(input(\"enter the value of number2 \"))\n",
    "    print(b-c)\n",
    "elif a==3:\n",
    "    b=int(input(\"enter the value of number1\"))\n",
    "    c=int(input(\"enter the value of number2 \"))\n",
    "    print(c*b)\n",
    "elif a==4:\n",
    "    b=int(input(\"enter the value of number1\"))\n",
    "    c=int(input(\"enter the value of number2 \"))\n",
    "    print(b/c)\n",
    "else:\n",
    "    print(\"invalid\")"
   ]
  },
  {
   "cell_type": "code",
   "execution_count": null,
   "id": "b2033f38-30f4-4e40-b210-5f8f169a1e08",
   "metadata": {},
   "outputs": [],
   "source": [
    "a=int(input(\"enter theno.of bonus hours worked in a week\"))\n",
    "b=int(input(\"enter the rate per hour\"))\n",
    "c=int(input(\"enter the no.of weeks in a month\"))\n",
    "print(a*b*c)\n"
   ]
  },
  {
   "cell_type": "code",
   "execution_count": 50,
   "id": "7f1a0e67-df85-4354-b5f9-bdbda312213b",
   "metadata": {},
   "outputs": [
    {
     "name": "stdin",
     "output_type": "stream",
     "text": [
      "enter the distance between delhi to mumbai 100\n"
     ]
    },
    {
     "name": "stdout",
     "output_type": "stream",
     "text": [
      "total time taken to travel from delhi to mumbai : 1.67\n",
      "total cost of petrol to complete the journey is : 5000.0\n"
     ]
    }
   ],
   "source": [
    "a=float(input(\"enter the distance between delhi to mumbai\"))\n",
    "velocity=60\n",
    "#petrol cost per liter=100\n",
    "b=a/velocity \n",
    "c=a*50 #I took 1 liter of pertol is consumed for 2km\n",
    "print(\"total time taken to travel from delhi to mumbai :\",round(a/velocity,2))\n",
    "print(\"total cost of petrol to complete the journey is :\",c) "
   ]
  },
  {
   "cell_type": "code",
   "execution_count": null,
   "id": "5861c0c7-c8e2-4dbd-a603-755ac2893604",
   "metadata": {},
   "outputs": [],
   "source": [
    "a=int(input(\"enter the value in seconds\"))\n"
   ]
  },
  {
   "cell_type": "code",
   "execution_count": 2,
   "id": "03577454-1274-4b46-b8d3-29e2d853e16f",
   "metadata": {},
   "outputs": [
    {
     "name": "stdin",
     "output_type": "stream",
     "text": [
      "enter a string jayasree\n"
     ]
    },
    {
     "name": "stdout",
     "output_type": "stream",
     "text": [
      "8\n"
     ]
    }
   ],
   "source": [
    "a=str(input(\"enter a string\"))\n",
    "print(len(a))"
   ]
  },
  {
   "cell_type": "code",
   "execution_count": 4,
   "id": "85859454-238f-4888-8826-260b77c30a31",
   "metadata": {},
   "outputs": [
    {
     "name": "stdin",
     "output_type": "stream",
     "text": [
      "enter a string i am studying in amrita school\n"
     ]
    },
    {
     "name": "stdout",
     "output_type": "stream",
     "text": [
      "2\n"
     ]
    }
   ],
   "source": [
    "a=str(input(\"enter a string\"))\n",
    "print(a.count(\"s\"))"
   ]
  },
  {
   "cell_type": "code",
   "execution_count": 4,
   "id": "47c4c7c4-0689-4cc6-b329-26606a069d5f",
   "metadata": {},
   "outputs": [
    {
     "name": "stdin",
     "output_type": "stream",
     "text": [
      "enter a number 77\n"
     ]
    },
    {
     "name": "stdout",
     "output_type": "stream",
     "text": [
      "odd number\n"
     ]
    }
   ],
   "source": [
    "a=int(input(\"enter a number\"))\n",
    "if (a%2==0):\n",
    "    print(\"even number\")\n",
    "else:\n",
    "    print(\"odd number\")"
   ]
  },
  {
   "cell_type": "code",
   "execution_count": 8,
   "id": "0458e503-7c3e-4870-81e4-2fe1bb35736a",
   "metadata": {},
   "outputs": [
    {
     "name": "stdin",
     "output_type": "stream",
     "text": [
      "enter the number 1 1\n",
      "enter the number 2 88\n",
      "enter the number 3 4\n"
     ]
    },
    {
     "name": "stdout",
     "output_type": "stream",
     "text": [
      "number 2 is greatetst\n"
     ]
    }
   ],
   "source": [
    "a=int(input(\"enter the number 1\"))\n",
    "b=int(input(\"enter the number 2\"))\n",
    "c=int(input(\"enter the number 3\"))\n",
    "if (a>b and a>c):\n",
    "    print(\" number 1 is greatest\")\n",
    "elif (b>a and b>c):\n",
    "    print(\"number 2 is greatetst\")\n",
    "else:\n",
    "    print(\"number 3 is greatest\") \n",
    "    "
   ]
  },
  {
   "cell_type": "code",
   "execution_count": 9,
   "id": "07ed2ebd-ab85-42c2-9793-074ed165d498",
   "metadata": {},
   "outputs": [
    {
     "name": "stdin",
     "output_type": "stream",
     "text": [
      "enter a number 77\n"
     ]
    },
    {
     "name": "stdout",
     "output_type": "stream",
     "text": [
      "divisible by seven\n"
     ]
    }
   ],
   "source": [
    "a=int(input(\"enter a number\"))\n",
    "if (a%7==0):\n",
    "    print(\"divisible by seven\")\n",
    "else :\n",
    "    print(\"not divisible by seven\")\n"
   ]
  },
  {
   "cell_type": "code",
   "execution_count": 12,
   "id": "711d7227-1875-4c07-931e-9546762f87fa",
   "metadata": {},
   "outputs": [
    {
     "name": "stdout",
     "output_type": "stream",
     "text": [
      "pallendrome\n"
     ]
    }
   ],
   "source": [
    "list=['apple','banana','carrot','banana','apple']\n",
    "list_copy=list.copy()\n",
    "list_copy.reverse()\n",
    "if list_copy==list :\n",
    "    print(\"pallendrome\")\n",
    "else :\n",
    "    print(\"no\")\n",
    "#by doing list_copy.reverse() we are altering the list so we use list_copy==list"
   ]
  },
  {
   "cell_type": "code",
   "execution_count": 24,
   "id": "cc313c92-7a8a-4433-af06-c4f348bc8484",
   "metadata": {},
   "outputs": [
    {
     "data": {
      "text/plain": [
       "3"
      ]
     },
     "execution_count": 24,
     "metadata": {},
     "output_type": "execute_result"
    }
   ],
   "source": [
    "list=[\"c\",\"d\",\"a\",\"a\",\"b\",\"b\",\"a\"]\n",
    "list.count(\"a\")"
   ]
  },
  {
   "cell_type": "code",
   "execution_count": 25,
   "id": "8b79f62e-60ef-4f2d-81ca-002f918be569",
   "metadata": {},
   "outputs": [
    {
     "name": "stdout",
     "output_type": "stream",
     "text": [
      "['a', 'a', 'a', 'b', 'b', 'c', 'd']\n"
     ]
    }
   ],
   "source": [
    "list=[\"c\",\"d\",\"a\",\"a\",\"b\",\"b\",\"a\"]\n",
    "list.sort()\n",
    "print(list)"
   ]
  },
  {
   "cell_type": "code",
   "execution_count": 2,
   "id": "96421c89-d2b9-4c93-a6a7-94483dfa0c57",
   "metadata": {},
   "outputs": [
    {
     "name": "stdin",
     "output_type": "stream",
     "text": [
      "ENTER A NUMBER -55\n"
     ]
    },
    {
     "name": "stdout",
     "output_type": "stream",
     "text": [
      "negative\n"
     ]
    }
   ],
   "source": [
    "a=float(input(\"ENTER A NUMBER\"))\n",
    "if a>0 :\n",
    "    print(\"positive\")\n",
    "else :\n",
    "    print(\"negative\")"
   ]
  },
  {
   "cell_type": "code",
   "execution_count": 5,
   "id": "f589417c-5e40-4a0c-bb4c-58191e91d500",
   "metadata": {},
   "outputs": [
    {
     "name": "stdin",
     "output_type": "stream",
     "text": [
      "ENTER A NUMBER 66\n"
     ]
    },
    {
     "name": "stdout",
     "output_type": "stream",
     "text": [
      "positive\n"
     ]
    }
   ],
   "source": [
    "a=float(input(\"ENTER A NUMBER\"))\n",
    "if a>0 :\n",
    "    print(\"positive\")\n",
    "elif a==0 :\n",
    "    print(\"zero\")\n",
    "else :\n",
    "    print(\"negative\")"
   ]
  },
  {
   "cell_type": "code",
   "execution_count": 7,
   "id": "f39fdc0a-11f9-4f57-9f48-87c3278e82d6",
   "metadata": {},
   "outputs": [
    {
     "name": "stdin",
     "output_type": "stream",
     "text": [
      "ENTER A NUMBER 66\n"
     ]
    },
    {
     "name": "stdout",
     "output_type": "stream",
     "text": [
      "even\n"
     ]
    }
   ],
   "source": [
    "a=float(input(\"ENTER A NUMBER\"))\n",
    "if a%2==0 :\n",
    "    print(\"even\")\n",
    "else :\n",
    "    print(\"odd\")"
   ]
  },
  {
   "cell_type": "code",
   "execution_count": 10,
   "id": "e7fdaeee-f62d-4496-96f0-90a6073432e4",
   "metadata": {},
   "outputs": [
    {
     "name": "stdin",
     "output_type": "stream",
     "text": [
      "ENTER YOUR AGE 1\n"
     ]
    },
    {
     "name": "stdout",
     "output_type": "stream",
     "text": [
      "not eligible\n"
     ]
    }
   ],
   "source": [
    "a=int(input(\"ENTER YOUR AGE\"))\n",
    "if a>=18 :\n",
    "    print(\"eligible\")\n",
    "else :\n",
    "    print(\"not eligible\")\n"
   ]
  },
  {
   "cell_type": "code",
   "execution_count": 20,
   "id": "1f0aa7b9-0f07-41b3-85b6-82712757a3eb",
   "metadata": {},
   "outputs": [
    {
     "name": "stdin",
     "output_type": "stream",
     "text": [
      "ENTER A NUMBER 30\n"
     ]
    },
    {
     "name": "stdout",
     "output_type": "stream",
     "text": [
      "your grade is f\n"
     ]
    }
   ],
   "source": [
    "a=float(input(\"ENTER A NUMBER\"))\n",
    "if a>=80 :\n",
    "    print(\"your grade is a\")\n",
    "elif a>60 and a<=80 :\n",
    "    print(\"your grade is b\")\n",
    "elif a>40 and a<=60 :\n",
    "    print(\"your grade is c\")\n",
    "else :\n",
    "    print(\"your grade is f\")\n"
   ]
  },
  {
   "cell_type": "code",
   "execution_count": 12,
   "id": "121fbe70-b40c-4f22-90eb-d39923ec3969",
   "metadata": {},
   "outputs": [
    {
     "name": "stdin",
     "output_type": "stream",
     "text": [
      "ENTER A CHARECTER 88\n"
     ]
    },
    {
     "name": "stdout",
     "output_type": "stream",
     "text": [
      "10 points\n"
     ]
    }
   ],
   "source": [
    "a=input(\"ENTER A CHARECTER\")\n",
    "if (a=='a' or a=='e' or a=='i' or a=='o' or a=='u'):\n",
    "    print(\"5 points\")\n",
    "elif a.isdigit() :\n",
    "    print(\"10 points\")\n",
    "else :\n",
    "    print(\"0 points\")"
   ]
  },
  {
   "cell_type": "code",
   "execution_count": 36,
   "id": "52db75e8-016f-4982-892f-b3cc3232471e",
   "metadata": {},
   "outputs": [
    {
     "name": "stdin",
     "output_type": "stream",
     "text": [
      "enter a string s\n"
     ]
    },
    {
     "name": "stdout",
     "output_type": "stream",
     "text": [
      "hello\n"
     ]
    }
   ],
   "source": [
    "a=str(input(\"enter a string\"))\n",
    "if a.isupper() :\n",
    "    print(\"hi\")\n",
    "else :\n",
    "    print(\"hello\")"
   ]
  },
  {
   "cell_type": "markdown",
   "id": "d9cedf7f-8b04-45ae-88bc-8ee302fb7466",
   "metadata": {},
   "source": [
    "a=int(input(\"ENTER THE VALUE OF a\"))\n",
    "b=int(input(\"ENTER THE VALUE OF b\"))\n",
    "c=int(input(\"ENTER THE VALUE OF c\"))\n",
    "value = b**2-4*a*c\n",
    "if value>0 :\n",
    "    print(\"equation has real roots\")\n",
    "elif value==0 :\n",
    "    print(\"equation has equal roots\")\n",
    "else :\n",
    "    print(\"equation has imaginary roots\")"
   ]
  },
  {
   "cell_type": "code",
   "execution_count": 14,
   "id": "200a8f82-d75d-48f9-b571-a484f24b6166",
   "metadata": {},
   "outputs": [
    {
     "name": "stdin",
     "output_type": "stream",
     "text": [
      "ENTER YOUR WEIGHT IN Kg 50\n",
      "ENTER YOUR HEIGHT IN M 1.6\n"
     ]
    },
    {
     "name": "stdout",
     "output_type": "stream",
     "text": [
      "19.53\n",
      "normal weight\n"
     ]
    }
   ],
   "source": [
    "a=float(input(\"ENTER YOUR WEIGHT IN Kg\"))\n",
    "height=float(input(\"ENTER YOUR HEIGHT IN M\"))\n",
    "BMI=a/height**2\n",
    "print(round(BMI,2))\n",
    "if BMI<18.5 :\n",
    "    print(\"underweight\")\n",
    "elif BMI>18.5 and BMI<24.9 :\n",
    "    print(\"normal weight\")\n",
    "else :\n",
    "    print(\"overweight\")"
   ]
  },
  {
   "cell_type": "code",
   "execution_count": 10,
   "id": "41446740-fcf9-40c7-9e41-34ffedbf7695",
   "metadata": {},
   "outputs": [
    {
     "name": "stdin",
     "output_type": "stream",
     "text": [
      "ENTER THE SIGN OF X cordinate -\n",
      "ENTER THE SIGN OF Y cordinate -\n"
     ]
    },
    {
     "name": "stdout",
     "output_type": "stream",
     "text": [
      "3 rd quadrant\n"
     ]
    }
   ],
   "source": [
    "a=str(input(\"ENTER THE SIGN OF X cordinate\"))\n",
    "b=str(input(\"ENTER THE SIGN OF Y cordinate\"))\n",
    "if a==\"+\" and b==\"+\" :\n",
    "    print(\"1 st quadrant\")\n",
    "elif a==\"-\" and b==\"+\" :\n",
    "    print(\"2 nd quadrant\")\n",
    "elif a==\"-\" and b==\"-\" :\n",
    "    print(\"3 rd quadrant\")\n",
    "else :\n",
    "    print(\"4 th quadrant\")"
   ]
  },
  {
   "cell_type": "code",
   "execution_count": 12,
   "id": "64a1febd-1dfc-4c2f-80da-d897fa2deb00",
   "metadata": {},
   "outputs": [
    {
     "name": "stdin",
     "output_type": "stream",
     "text": [
      "ENTER THE YEAR 2024\n"
     ]
    },
    {
     "name": "stdout",
     "output_type": "stream",
     "text": [
      "leap year\n"
     ]
    }
   ],
   "source": [
    "a=int(input(\"ENTER THE YEAR\"))\n",
    "if a%4==0 :\n",
    "    print(\"leap year\")\n",
    "else :\n",
    "    print(\"not a leap year\")"
   ]
  },
  {
   "cell_type": "code",
   "execution_count": 18,
   "id": "060fc0b0-8a7e-413b-bef3-d897264b1595",
   "metadata": {
    "scrolled": true
   },
   "outputs": [
    {
     "name": "stdin",
     "output_type": "stream",
     "text": [
      "ENTER THE AMOUNT YOU SHOPPED 5005\n"
     ]
    },
    {
     "name": "stdout",
     "output_type": "stream",
     "text": [
      "YOU ARE HAVING 20% DISCOUNT\n"
     ]
    }
   ],
   "source": [
    "a=int(input(\"ENTER THE AMOUNT YOU SHOPPED\"))\n",
    "if a>0 and a<=1000 :\n",
    "    print(\"YOU ARE HAVING 5% DISCOUNT\")\n",
    "elif a>1001 and a<=5000 :\n",
    "    print(\"YOU ARE HAVING 10% DISCOUNT\")\n",
    "elif a>5001 and a<=10000 :\n",
    "    print(\"YOU ARE HAVING 20% DISCOUNT\")"
   ]
  },
  {
   "cell_type": "code",
   "execution_count": 12,
   "id": "28ffdc07-f31b-459e-b832-5d33c3350871",
   "metadata": {},
   "outputs": [
    {
     "name": "stdin",
     "output_type": "stream",
     "text": [
      "1:add,2:sub,3:mul,4:div 1\n",
      "enter first num 45\n",
      "enter second num 45\n"
     ]
    },
    {
     "name": "stdout",
     "output_type": "stream",
     "text": [
      "90\n"
     ]
    }
   ],
   "source": [
    "operation=int(input(\"1:add,2:sub,3:mul,4:div\"))\n",
    "a=int(input(\"enter first num\"))\n",
    "b=int(input(\"enter second num\"))\n",
    "match operation:\n",
    "     case 1:\n",
    "         print(a+b)\n",
    "     case 2:\n",
    "         print(a-b)\n",
    "     case 3:\n",
    "         print(a*b)\n",
    "     case default:\n",
    "         print()"
   ]
  },
  {
   "cell_type": "code",
   "execution_count": 4,
   "id": "1b911391-14c5-4776-88b6-2a8b90f476c2",
   "metadata": {},
   "outputs": [
    {
     "name": "stdout",
     "output_type": "stream",
     "text": [
      "1\n",
      "3\n",
      "5\n",
      "7\n",
      "9\n",
      "11\n",
      "13\n",
      "15\n",
      "17\n",
      "19\n",
      "21\n",
      "23\n",
      "25\n",
      "27\n",
      "29\n",
      "31\n",
      "33\n",
      "35\n",
      "37\n",
      "39\n",
      "41\n",
      "43\n",
      "45\n",
      "47\n",
      "49\n",
      "51\n",
      "53\n",
      "55\n",
      "57\n",
      "59\n",
      "61\n",
      "63\n",
      "65\n",
      "67\n",
      "69\n",
      "71\n",
      "73\n",
      "75\n",
      "77\n",
      "79\n",
      "81\n",
      "83\n",
      "85\n",
      "87\n",
      "89\n",
      "91\n",
      "93\n",
      "95\n",
      "97\n",
      "99\n"
     ]
    }
   ],
   "source": [
    "n=1\n",
    "while n<=100 :\n",
    "   print(n)\n",
    "   n=n+2"
   ]
  },
  {
   "cell_type": "code",
   "execution_count": null,
   "id": "2c192212-6e0c-4196-9278-b87212370fe1",
   "metadata": {},
   "outputs": [],
   "source": [
    "num1=(\"enter\")\n",
    "num2=(\"enter\")\n",
    "num3=(\"enter\")\n",
    "if num1>num2:\n",
    "   if num1>num3:\n",
    "       print(\"num 1 is greatest\")\n",
    "   else:\n",
    "       if num2>num3:\n",
    "           print(\"num2 is greatest\")\n",
    "       else :\n",
    "            print(\"num3 is greatest\")\n",
    "            "
   ]
  },
  {
   "cell_type": "code",
   "execution_count": 35,
   "id": "b4a090ba-049f-4837-826b-833a55bddd05",
   "metadata": {},
   "outputs": [
    {
     "name": "stdout",
     "output_type": "stream",
     "text": [
      "[0, 0, 0]\n",
      "[0, 1, 2]\n",
      "[0, 2, 4]\n",
      "[0, 3, 6]\n",
      "\n",
      "[0, 1, 2]\n",
      "[1, 2, 3]\n",
      "[2, 3, 4]\n",
      "[3, 4, 5]\n",
      "\n"
     ]
    }
   ],
   "source": [
    "rows = 4\n",
    "cols = 3\n",
    "matrix1 = []\n",
    "for i in range(rows):\n",
    "    row = []\n",
    "    for j in range(cols):\n",
    "        row.append(i * j)\n",
    "    matrix1.append(row)\n",
    "for row in matrix1:\n",
    "    print(row)\n",
    "print()\n",
    "matrix2 = []\n",
    "for i in range(rows):\n",
    "    row = []\n",
    "    for j in range(cols):\n",
    "        row.append(i + j)\n",
    "    matrix2.append(row)\n",
    "for row in matrix2:\n",
    "    print(row)\n",
    "print()"
   ]
  },
  {
   "cell_type": "code",
   "execution_count": 41,
   "id": "a5e3f0bd-b8da-4138-916f-ca26afb5126c",
   "metadata": {},
   "outputs": [
    {
     "name": "stdout",
     "output_type": "stream",
     "text": [
      "[[0, 0, 0], [0, 1, 2], [0, 2, 4], [0, 3, 6]]\n",
      "\n",
      "[[0, 1, 2], [1, 2, 3], [2, 3, 4], [3, 4, 5]]\n",
      "\n",
      "[[0, 0, 0], [0, 1, 2], [0, 2, 4], [0, 3, 6], [0, 1, 2], [1, 2, 3], [2, 3, 4], [3, 4, 5]]\n"
     ]
    }
   ],
   "source": [
    "rows = 4\n",
    "cols = 3\n",
    "matrix1 = []\n",
    "for i in range(rows):\n",
    "    row = []\n",
    "    for j in range(cols):\n",
    "        row.append(i * j)\n",
    "    matrix1.append(row)\n",
    "print(matrix1)\n",
    "print()\n",
    "rows = 4\n",
    "cols = 3\n",
    "matrix2 = []\n",
    "for i in range(rows):\n",
    "    row = []\n",
    "    for j in range(cols):\n",
    "        row.append(i + j)\n",
    "    matrix2.append(row)\n",
    "print(matrix2)\n",
    "print()\n",
    "for i in range("
   ]
  },
  {
   "cell_type": "code",
   "execution_count": 42,
   "id": "ff7d60ca-8d6b-4c84-9549-06c29a6276af",
   "metadata": {},
   "outputs": [
    {
     "name": "stdout",
     "output_type": "stream",
     "text": [
      "[[0, 1, 2, 3], [1, 2, 3, 4], [2, 3, 4, 5]]\n"
     ]
    }
   ],
   "source": [
    "rows = 3\n",
    "cols = 4\n",
    "matrix1 = []\n",
    "for i in range(rows):\n",
    "    row = []\n",
    "    for j in range(cols):\n",
    "        row.append(i + j)\n",
    "    matrix1.append(row)\n",
    "print(matrix1)"
   ]
  },
  {
   "cell_type": "code",
   "execution_count": 7,
   "id": "9e01c321-e2eb-442f-a327-49e157f6d7c3",
   "metadata": {},
   "outputs": [
    {
     "name": "stdout",
     "output_type": "stream",
     "text": [
      "1\n",
      "22\n",
      "333\n",
      "4444\n"
     ]
    }
   ],
   "source": [
    "#QUESTION 1\n",
    "for i in range(1,5):\n",
    "    for j in range(0,i):\n",
    "        print(i,end=\"\")\n",
    "    i=i+1\n",
    "    print()"
   ]
  },
  {
   "cell_type": "code",
   "execution_count": 8,
   "id": "a84fd245-af9c-413b-8880-73b4595c0937",
   "metadata": {},
   "outputs": [
    {
     "name": "stdout",
     "output_type": "stream",
     "text": [
      "11111\n",
      "2222\n",
      "333\n",
      "44\n",
      "5\n"
     ]
    }
   ],
   "source": [
    "#QUESTION 2\n",
    "for i in range(1,6):\n",
    "    for j in range(i,6):\n",
    "        print(i,end=\"\")\n",
    "    i=i+1\n",
    "    print()"
   ]
  },
  {
   "cell_type": "code",
   "execution_count": 10,
   "id": "34330cb0-6620-43c3-9011-06e54da66c3d",
   "metadata": {},
   "outputs": [
    {
     "name": "stdout",
     "output_type": "stream",
     "text": [
      "1\n",
      "12\n",
      "123\n",
      "1234\n",
      "12345\n"
     ]
    }
   ],
   "source": [
    "#QUESTION 3\n",
    "for i in range(1,6):\n",
    "    for j in range(0,i):\n",
    "        print(j+1,end=\"\")\n",
    "    i=i+1\n",
    "    print()"
   ]
  },
  {
   "cell_type": "code",
   "execution_count": 17,
   "id": "7f007f9b-877b-47e7-a4d3-2def23bfce82",
   "metadata": {},
   "outputs": [
    {
     "name": "stdout",
     "output_type": "stream",
     "text": [
      "5 5 5 5 5 \n",
      "4 4 4 4 \n",
      "3 3 3 \n",
      "2 2 \n",
      "1 \n"
     ]
    }
   ],
   "source": [
    "#QUESTION 4\n",
    "for i in range(0,5):\n",
    "    for j in range(5,i,-1):\n",
    "        print(5-i,end=\" \")\n",
    "    i=i+1\n",
    "    print()"
   ]
  },
  {
   "cell_type": "code",
   "execution_count": 18,
   "id": "6f350f2b-1566-49c3-9034-c741b0007642",
   "metadata": {},
   "outputs": [
    {
     "name": "stdout",
     "output_type": "stream",
     "text": [
      "1 \n",
      "2 1 \n",
      "3 2 1 \n",
      "4 3 2 1 \n",
      "5 4 3 2 1 \n"
     ]
    }
   ],
   "source": [
    "#QUESTION 5\n",
    "for i in range(1,6):\n",
    "    for j in range(i,0,-1):\n",
    "        print(j,end=\" \")\n",
    "    i=i+1\n",
    "    print()"
   ]
  },
  {
   "cell_type": "code",
   "execution_count": 22,
   "id": "e105c6ec-2fdc-4b27-a07f-5c5c3164db92",
   "metadata": {},
   "outputs": [
    {
     "name": "stdout",
     "output_type": "stream",
     "text": [
      "0 1 2 3 4 5 \n",
      "0 1 2 3 4 \n",
      "0 1 2 3 \n",
      "0 1 2 \n",
      "0 1 \n",
      "0 \n"
     ]
    }
   ],
   "source": [
    "#QUESTION 6\n",
    "for i in range(0,6):\n",
    "    for j in range(6,i,-1):\n",
    "        print((5-j)+1,end=\" \")\n",
    "    i=i+1\n",
    "    print()"
   ]
  },
  {
   "cell_type": "code",
   "execution_count": null,
   "id": "d8dcfcdd-28b1-47e3-b972-22c737cb1da4",
   "metadata": {},
   "outputs": [],
   "source": [
    "#QUESTION 7\n"
   ]
  },
  {
   "cell_type": "code",
   "execution_count": 16,
   "id": "d37ba993-8965-43b6-8857-cffbe8865c17",
   "metadata": {},
   "outputs": [
    {
     "name": "stdout",
     "output_type": "stream",
     "text": [
      "          1 \n",
      "        1 2 \n",
      "      1 2 3 \n",
      "    1 2 3 4 \n",
      "  1 2 3 4 5 \n"
     ]
    }
   ],
   "source": [
    "#QUESTION 8\n",
    "for i in range(1,6):\n",
    "    for j in range(i,6):\n",
    "        print(\" \",end=\" \")\n",
    "    for j in range(1,i+1):\n",
    "        print(j,end=\" \")\n",
    "    i=i+1\n",
    "    print()"
   ]
  },
  {
   "cell_type": "code",
   "execution_count": 23,
   "id": "f57a7a79-995f-4cf5-aa6a-4e6753ac5ad9",
   "metadata": {},
   "outputs": [
    {
     "name": "stdout",
     "output_type": "stream",
     "text": [
      "5 5 5 5 5 \n",
      "5 5 5 5 \n",
      "5 5 5 \n",
      "5 5 \n",
      "5 \n"
     ]
    }
   ],
   "source": [
    "#QUESTION 9\n",
    "for i in range(0,5):\n",
    "    for j in range(5,i,-1):\n",
    "        print(5,end=\" \")\n",
    "    i=i+1\n",
    "    print()"
   ]
  },
  {
   "cell_type": "code",
   "execution_count": 23,
   "id": "7676f00a-fb9a-4f2b-abb5-1aecce83f23b",
   "metadata": {},
   "outputs": [
    {
     "name": "stdout",
     "output_type": "stream",
     "text": [
      "[[2, 3, 4], [3, 3, 3], [5, 6, 7]]\n"
     ]
    }
   ],
   "source": [
    "matrix1=[[1,2,3],[1,1,1],[2,3,4]]\n",
    "matrix2=[[1,1,1],[2,2,2],[3,3,3]]\n",
    "result=[[0,0,0],[0,0,0],[0,0,0]]\n",
    "for i in range(len(matrix1)):\n",
    "    for j in range(len(matrix2)):\n",
    "        result[i][j]=matrix1[i][j]+matrix2[i][j]\n",
    "print(result)"
   ]
  },
  {
   "cell_type": "code",
   "execution_count": 7,
   "id": "3a32b454-5fbc-43c3-92d1-b138d41a37b4",
   "metadata": {},
   "outputs": [
    {
     "name": "stdout",
     "output_type": "stream",
     "text": [
      "    *\n",
      "   ***\n",
      "  *****\n",
      " *******\n",
      "*********\n"
     ]
    }
   ],
   "source": [
    "n=5\n",
    "i=1\n",
    "while i<=n:\n",
    "    print(' '*(n-i)+'*'*(2*i-1))\n",
    "    i+=1"
   ]
  },
  {
   "cell_type": "code",
   "execution_count": 8,
   "id": "d8bc004b-9a7f-41d1-ba50-106aeb9a3e60",
   "metadata": {},
   "outputs": [
    {
     "name": "stdout",
     "output_type": "stream",
     "text": [
      "*********\n",
      " *******\n",
      "  *****\n",
      "   ***\n",
      "    *\n"
     ]
    }
   ],
   "source": [
    "n=5\n",
    "i=0\n",
    "while n-i>0:\n",
    "    print(' '*i+'*'*(2*(n-i)-1))\n",
    "    i+=1"
   ]
  },
  {
   "cell_type": "code",
   "execution_count": 9,
   "id": "1e064294-9199-4ade-9950-229463461140",
   "metadata": {},
   "outputs": [
    {
     "name": "stdout",
     "output_type": "stream",
     "text": [
      "    *\n",
      "   **\n",
      "  ***\n",
      " ****\n",
      "*****\n"
     ]
    }
   ],
   "source": [
    "n=5\n",
    "i=1\n",
    "while i<=n:\n",
    "    print(' '*(n-i)+'*'*i)\n",
    "    i+=1"
   ]
  },
  {
   "cell_type": "code",
   "execution_count": 11,
   "id": "c51acb0a-03be-4673-8301-930a076ac002",
   "metadata": {},
   "outputs": [
    {
     "name": "stdout",
     "output_type": "stream",
     "text": [
      "[[0, 0, 0], [0, 0, 0], [0, 0, 0]]\n"
     ]
    }
   ],
   "source": [
    "rows=3\n",
    "cols=3\n",
    "matrix=[]\n",
    "for i in range(rows):\n",
    "    row=[]\n",
    "    for j in range(cols):\n",
    "        row.append(0)\n",
    "    matrix.append(row)\n",
    "print(matrix)"
   ]
  },
  {
   "cell_type": "code",
   "execution_count": 18,
   "id": "5921ffa5-15ae-4272-b118-5a742b45bd81",
   "metadata": {},
   "outputs": [
    {
     "name": "stdout",
     "output_type": "stream",
     "text": [
      "*\n",
      "***\n",
      "*****\n",
      "*******\n",
      "*********\n"
     ]
    }
   ],
   "source": [
    "for i in range(1,6):\n",
    "    print(''*(n-1)+'*'*(2*i-1))"
   ]
  },
  {
   "cell_type": "code",
   "execution_count": 28,
   "id": "5c07cbbe-a3b9-4dfb-9465-6fee30b322b6",
   "metadata": {},
   "outputs": [
    {
     "name": "stdout",
     "output_type": "stream",
     "text": [
      "*****\n",
      "*****\n",
      "*****\n",
      "*****\n",
      "*****\n"
     ]
    }
   ],
   "source": [
    "n=5\n",
    "for i in range(n):\n",
    "    for j in range(n):\n",
    "        print(\"*\",end='')\n",
    "    print()\n",
    "        "
   ]
  },
  {
   "cell_type": "code",
   "execution_count": 31,
   "id": "ac4e96fa-36d6-46c4-9199-f1305b8c2193",
   "metadata": {},
   "outputs": [
    {
     "name": "stdout",
     "output_type": "stream",
     "text": [
      "* \n",
      "* * \n",
      "* * * \n",
      "* * * * \n",
      "* * * * * \n"
     ]
    }
   ],
   "source": [
    "n=5\n",
    "for i in range(n):\n",
    "    for j in range(i+1):\n",
    "        print('*',end=' ')\n",
    "    print()"
   ]
  },
  {
   "cell_type": "code",
   "execution_count": 32,
   "id": "dc9f75db-8e1b-4834-94dd-15bc1824ce7d",
   "metadata": {},
   "outputs": [
    {
     "name": "stdout",
     "output_type": "stream",
     "text": [
      "*****\n",
      "****\n",
      "***\n",
      "**\n",
      "*\n"
     ]
    }
   ],
   "source": [
    "n=5\n",
    "for i in range(n):\n",
    "    for j in range(i,n):\n",
    "        print(\"*\",end='')\n",
    "    print()\n",
    "        "
   ]
  },
  {
   "cell_type": "code",
   "execution_count": 35,
   "id": "42364023-ac1e-4750-baba-cf0a61981f38",
   "metadata": {},
   "outputs": [
    {
     "name": "stdout",
     "output_type": "stream",
     "text": [
      "* \n",
      "* * \n",
      "* * * \n",
      "* * * * \n",
      "* * * * * \n"
     ]
    }
   ],
   "source": [
    "n=5\n",
    "for i in range(n):\n",
    "    for j in range(i,n):\n",
    "        print('',end='')\n",
    "    for j in range(i+1):\n",
    "        print('*',end=' ')\n",
    "    print()"
   ]
  },
  {
   "cell_type": "code",
   "execution_count": 1,
   "id": "6525086e-9c94-4f1d-91eb-05840d419957",
   "metadata": {},
   "outputs": [
    {
     "name": "stdout",
     "output_type": "stream",
     "text": [
      "3\n"
     ]
    }
   ],
   "source": [
    "matrix1=[[1,2,3],[1,1,1],[2,3,4]]\n",
    "print(len(matrix1))"
   ]
  },
  {
   "cell_type": "code",
   "execution_count": 9,
   "id": "fd46e811-79d6-4911-b4d2-ed538a08debd",
   "metadata": {},
   "outputs": [
    {
     "name": "stdout",
     "output_type": "stream",
     "text": [
      "[0, 1, 4, 9, 16, 25, 36, 49, 64, 81]\n"
     ]
    }
   ],
   "source": [
    "squares=[x**2 for x in range(10)]\n",
    "print(squares)"
   ]
  },
  {
   "cell_type": "code",
   "execution_count": 8,
   "id": "70edb79c-ae0e-4afc-aa89-e469b974aebc",
   "metadata": {},
   "outputs": [
    {
     "ename": "NameError",
     "evalue": "name 'i' is not defined",
     "output_type": "error",
     "traceback": [
      "\u001b[1;31m---------------------------------------------------------------------------\u001b[0m",
      "\u001b[1;31mNameError\u001b[0m                                 Traceback (most recent call last)",
      "Cell \u001b[1;32mIn[8], line 2\u001b[0m\n\u001b[0;32m      1\u001b[0m \u001b[38;5;28mlist\u001b[39m\u001b[38;5;241m=\u001b[39m[\u001b[38;5;124m\"\u001b[39m\u001b[38;5;124mjayasree\u001b[39m\u001b[38;5;124m\"\u001b[39m,\u001b[38;5;124m\"\u001b[39m\u001b[38;5;124msanjana\u001b[39m\u001b[38;5;124m\"\u001b[39m,\u001b[38;5;124m\"\u001b[39m\u001b[38;5;124mjashwanth\u001b[39m\u001b[38;5;124m\"\u001b[39m,\u001b[38;5;124m\"\u001b[39m\u001b[38;5;124mapple\u001b[39m\u001b[38;5;124m\"\u001b[39m,\u001b[38;5;124m\"\u001b[39m\u001b[38;5;124mbanana\u001b[39m\u001b[38;5;124m\"\u001b[39m]\n\u001b[1;32m----> 2\u001b[0m new_list\u001b[38;5;241m=\u001b[39m[i \u001b[38;5;28;01mfor\u001b[39;00m j \u001b[38;5;129;01min\u001b[39;00m \u001b[38;5;28mlist\u001b[39m \u001b[38;5;28;01mif\u001b[39;00m \u001b[38;5;28mlist\u001b[39m[i]]\n\u001b[0;32m      3\u001b[0m \u001b[38;5;28mprint\u001b[39m(new_list)\n",
      "\u001b[1;31mNameError\u001b[0m: name 'i' is not defined"
     ]
    }
   ],
   "source": [
    "list=[\"jayasree\",\"sanjana\",\"jashwanth\",\"apple\",\"banana\"]\n",
    "new_list=[i for j in list if list[i]]\n",
    "print(new_list)"
   ]
  },
  {
   "cell_type": "code",
   "execution_count": 15,
   "id": "04507c5c-f106-4f5a-998b-99d0c5968911",
   "metadata": {},
   "outputs": [
    {
     "name": "stdout",
     "output_type": "stream",
     "text": [
      "3\n",
      "['o', 'a', 'i']\n",
      "['p', 'r', 'g', 'r', 'm', 'n', 'g']\n"
     ]
    }
   ],
   "source": [
    "string=\"programing\"\n",
    "vowel=\"aAeEiIoOuU\"\n",
    "count=sum(1 for char in string if char in vowel)\n",
    "print(count)\n",
    "sree=[char for char in string if char in vowel]\n",
    "print(sree)\n",
    "jaya=[char for char in string if char not in vowel]\n",
    "print(jaya)"
   ]
  },
  {
   "cell_type": "code",
   "execution_count": 27,
   "id": "b80cf95c-6fb9-46b9-a2e6-ee0afae9129f",
   "metadata": {},
   "outputs": [
    {
     "name": "stdout",
     "output_type": "stream",
     "text": [
      "0\n",
      "[]\n",
      "['jaya', 'sree']\n"
     ]
    }
   ],
   "source": [
    "string=[\"jaya\",\"sree\"]\n",
    "vowel=\"aAeEiIoOuU\"\n",
    "count=sum(1 for char in string if char in vowel)\n",
    "print(count)\n",
    "z=[char for word in string if char in vowel]\n",
    "print(z)\n",
    "consaonant=[char for char in string if char not in vowel]\n",
    "print(consaonant)"
   ]
  },
  {
   "cell_type": "code",
   "execution_count": 18,
   "id": "38551f70-b8fa-419a-85ef-9542ef88a2a3",
   "metadata": {},
   "outputs": [
    {
     "name": "stdout",
     "output_type": "stream",
     "text": [
      "o\n",
      "a\n",
      "i\n"
     ]
    }
   ],
   "source": [
    "string=\"programing\"\n",
    "vowel=\"aAeEiIoOuU\"\n",
    "for char in string:\n",
    "    if char in vowel:\n",
    "        print(char)"
   ]
  },
  {
   "cell_type": "code",
   "execution_count": 21,
   "id": "dd7c5963-a10f-46c7-a2e9-3fc7fe67f5a3",
   "metadata": {},
   "outputs": [
    {
     "name": "stdout",
     "output_type": "stream",
     "text": [
      "HELLO world\n"
     ]
    }
   ],
   "source": [
    "import string \n",
    "input=\"$H$ELLO, @world!\"\n",
    "new=''.join(char for char in input if char not in string.punctuation)\n",
    "print(new)"
   ]
  },
  {
   "cell_type": "code",
   "execution_count": 22,
   "id": "477cf2b7-c569-4b1f-8cb7-d3013571bed4",
   "metadata": {},
   "outputs": [
    {
     "name": "stdout",
     "output_type": "stream",
     "text": [
      "sciencedataisdatafun\n",
      "sdatacdataidataedatandatacdatae\n"
     ]
    }
   ],
   "source": [
    "import string\n",
    "input=\"Hello, world!\"\n",
    "new=\"data\".join([\"science\",\"is\",\"fun\"])\n",
    "print(new)\n",
    "new1=\"data\".join(\"science\")\n",
    "print(new1)"
   ]
  },
  {
   "cell_type": "code",
   "execution_count": 23,
   "id": "65a414b5-101e-4fe2-9367-e3946b747ac8",
   "metadata": {},
   "outputs": [
    {
     "name": "stdout",
     "output_type": "stream",
     "text": [
      "python\n"
     ]
    }
   ],
   "source": [
    "sentence=\"python is fun\"\n",
    "long=sentence.split()\n",
    "word=' '\n",
    "for i in long:\n",
    "    if(len(i)>len(word)):\n",
    "        word=i\n",
    "print(word)"
   ]
  },
  {
   "cell_type": "code",
   "execution_count": 26,
   "id": "930b6a0b-324c-4f6e-9e35-50e42bbc90ce",
   "metadata": {},
   "outputs": [
    {
     "name": "stdout",
     "output_type": "stream",
     "text": [
      "7\n"
     ]
    }
   ],
   "source": [
    "#\n",
    "string='hello world'\n",
    "last=string.rfind('o')\n",
    "print(last)"
   ]
  }
 ],
 "metadata": {
  "kernelspec": {
   "display_name": "Python 3 (ipykernel)",
   "language": "python",
   "name": "python3"
  },
  "language_info": {
   "codemirror_mode": {
    "name": "ipython",
    "version": 3
   },
   "file_extension": ".py",
   "mimetype": "text/x-python",
   "name": "python",
   "nbconvert_exporter": "python",
   "pygments_lexer": "ipython3",
   "version": "3.12.4"
  }
 },
 "nbformat": 4,
 "nbformat_minor": 5
}
