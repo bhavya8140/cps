{
 "cells": [
  {
   "cell_type": "code",
   "execution_count": null,
   "id": "d1781141-670e-42c4-89e6-3ac8d72377fd",
   "metadata": {},
   "outputs": [],
   "source": [
    "import random\n",
    "def guess_the_number():\n",
    "print(\"Welcome to 'Guess the Number'!\")\n",
    "print(\"I'm thinking of a number between 1 and 100.\")\n",
    "target_number = random.randint(1, 100)\n",
    "attempts = 0\n",
    "while True:\n",
    "guess = input(\"Enter your guess: \")\n",
    "if not guess.isdigit():\n",
    "print(\"Please enter a valid number.\")\n",
    "continue\n",
    "guess = int(guess)\n",
    "attempts += 1\n",
    "if guess < target_number:\n",
    "print(\"Too low! Try again.\")\n",
    "elif guess > target_number:\n",
    "print(\"Too high! Try again.\")\n",
    "else:\n",
    "print(f\"Congratulations! You guessed the number in {attempts} attempts.\")\n",
    "break\n"
   ]
  },
  {
   "cell_type": "code",
   "execution_count": 3,
   "id": "e2224296-530f-4c11-80b8-9075a9ce90e3",
   "metadata": {},
   "outputs": [
    {
     "name": "stdout",
     "output_type": "stream",
     "text": [
      "apple\n",
      "5\n",
      "['apple', 5]\n"
     ]
    }
   ],
   "source": [
    "string=[\"apple\",5]\n",
    "print(string[0])\n",
    "print(string[1])\n",
    "print(string)"
   ]
  },
  {
   "cell_type": "code",
   "execution_count": 3,
   "id": "445d12ea-cd20-44d1-8d41-13da0533b1e9",
   "metadata": {},
   "outputs": [
    {
     "data": {
      "text/plain": [
       "120"
      ]
     },
     "execution_count": 3,
     "metadata": {},
     "output_type": "execute_result"
    }
   ],
   "source": [
    "#FACTORIAL\n",
    "def factorial(n):\n",
    "    if n == 0 or n == 1: \n",
    "        return 1\n",
    "    else:\n",
    "        return n * factorial(n - 1)\n",
    "factorial(5)"
   ]
  },
  {
   "cell_type": "code",
   "execution_count": 7,
   "id": "61905197-ff1b-48f0-b0a6-921f33d42c5a",
   "metadata": {},
   "outputs": [
    {
     "data": {
      "text/plain": [
       "8"
      ]
     },
     "execution_count": 7,
     "metadata": {},
     "output_type": "execute_result"
    }
   ],
   "source": [
    "#FIBONACCI\n",
    "def fibonacci(n):\n",
    "    if n<=1:\n",
    "        return n\n",
    "    else:\n",
    "        return fibonacci(n-1)+fibonacci(n-2)\n",
    "fibonacci(6)"
   ]
  },
  {
   "cell_type": "code",
   "execution_count": 14,
   "id": "628198fd-7580-4bda-b56e-66b71fcfecb8",
   "metadata": {},
   "outputs": [
    {
     "name": "stdout",
     "output_type": "stream",
     "text": [
      "15\n"
     ]
    }
   ],
   "source": [
    "#SUM OF NATURAL NUMBERS\n",
    "def sum_naturalnumber(n):\n",
    "    if n==1:\n",
    "        return 1\n",
    "    else:\n",
    "        return n+sum_naturalnumber(n-1)\n",
    "print(sum_naturalnumber(5))\n",
    "    "
   ]
  },
  {
   "cell_type": "code",
   "execution_count": 24,
   "id": "b7b88b22-976c-47a5-baa2-de03eb13ec67",
   "metadata": {},
   "outputs": [
    {
     "data": {
      "text/plain": [
       "True"
      ]
     },
     "execution_count": 24,
     "metadata": {},
     "output_type": "execute_result"
    }
   ],
   "source": [
    "#CHECK IF A STRING IS A PALLENDROME\n",
    "def is_pallendrome(s):\n",
    "    if len(s) <= 1:\n",
    "        return True\n",
    "    if s[0] != s[-1]:\n",
    "        return False\n",
    "    return is_pallendrome(s[1:-1])\n",
    "is_pallendrome(\"racecar\")"
   ]
  },
  {
   "cell_type": "code",
   "execution_count": 27,
   "id": "cde22ae1-88b8-4bdd-8453-8154ace181e2",
   "metadata": {},
   "outputs": [
    {
     "data": {
      "text/plain": [
       "81"
      ]
     },
     "execution_count": 27,
     "metadata": {},
     "output_type": "execute_result"
    }
   ],
   "source": [
    "#POWER OF A NUMBER\n",
    "def power(x,y):\n",
    "    if y==0:\n",
    "        return 1\n",
    "    return x*power(x,y-1)\n",
    "power(3,4)\n",
    "    "
   ]
  },
  {
   "cell_type": "code",
   "execution_count": 28,
   "id": "6e8e8bce-740b-43c8-b4a9-e705f66eb44b",
   "metadata": {},
   "outputs": [
    {
     "name": "stdout",
     "output_type": "stream",
     "text": [
      "6\n"
     ]
    }
   ],
   "source": [
    "#GCD\n",
    "def gcd(a, b):\n",
    "    if b == 0:\n",
    "        return a\n",
    "    return gcd(b, a % b)\n",
    "print(gcd(48, 18))"
   ]
  },
  {
   "cell_type": "code",
   "execution_count": 29,
   "id": "5f697cc7-b691-4a15-8ff7-86e2f797aaf6",
   "metadata": {},
   "outputs": [
    {
     "name": "stdout",
     "output_type": "stream",
     "text": [
      "1010\n"
     ]
    }
   ],
   "source": [
    "#DECIMAL TO BINARY\n",
    "def decimal_to_binary(n):\n",
    "    if n == 0:\n",
    "        return \"\"\n",
    "    return decimal_to_binary(n // 2) + str(n % 2)\n",
    "print(decimal_to_binary(10)) "
   ]
  },
  {
   "cell_type": "code",
   "execution_count": 31,
   "id": "3a7fc89c-fb6a-4075-a5f0-5940e582f0b6",
   "metadata": {},
   "outputs": [
    {
     "name": "stdout",
     "output_type": "stream",
     "text": [
      "olleh\n"
     ]
    }
   ],
   "source": [
    "#REVERSE A STRING\n",
    "def reverse_string(s):\n",
    "    if len(s) == 0:\n",
    "        return \"\"\n",
    "    return s[-1] + reverse_string(s[:-1])\n",
    "print(reverse_string(\"hello\"))"
   ]
  },
  {
   "cell_type": "code",
   "execution_count": 32,
   "id": "b5a104d9-26ee-419e-85de-7518425d4123",
   "metadata": {},
   "outputs": [
    {
     "name": "stdout",
     "output_type": "stream",
     "text": [
      "6\n"
     ]
    }
   ],
   "source": [
    "#Sum of Digits of a Number\n",
    "def sum_of_digits(n):\n",
    "    if n == 0:\n",
    "        return 0\n",
    "    return n % 10 + sum_of_digits(n // 10)\n",
    "print(sum_of_digits(123))"
   ]
  },
  {
   "cell_type": "code",
   "execution_count": 36,
   "id": "170f173e-437b-4e4e-bf51-b2741c649612",
   "metadata": {},
   "outputs": [
    {
     "name": "stdout",
     "output_type": "stream",
     "text": [
      "2\n"
     ]
    }
   ],
   "source": [
    "#Product of Array Elements\n",
    "def product_of_array(arr, n):\n",
    "    if n == 0:\n",
    "        return arr[0]\n",
    "    return arr[n] * product_of_array(arr, n - 1)\n",
    "print(product_of_array([1, 2, 3, 4], 3))"
   ]
  },
  {
   "cell_type": "code",
   "execution_count": 1,
   "id": "e8e21aae-1fe3-4780-be06-1fec9df3bd80",
   "metadata": {},
   "outputs": [
    {
     "data": {
      "text/plain": [
       "'this is amrita college'"
      ]
     },
     "execution_count": 1,
     "metadata": {},
     "output_type": "execute_result"
    }
   ],
   "source": [
    "a=\"this is AMRITA college\"\n",
    "a.casefold()"
   ]
  },
  {
   "cell_type": "code",
   "execution_count": 4,
   "id": "048abd24-6fcc-4b22-aa22-a22c3265d7c0",
   "metadata": {},
   "outputs": [
    {
     "name": "stdout",
     "output_type": "stream",
     "text": [
      "3\n"
     ]
    }
   ],
   "source": [
    "#imp#NO.OF VOWELS IN THE STATEMENT\n",
    "string=\"programing\"\n",
    "vowel=\"AaEeIiOoUu\"\n",
    "count=sum(1 for char in string if char in vowel)\n",
    "print(count)"
   ]
  },
  {
   "cell_type": "code",
   "execution_count": 5,
   "id": "8bbfa618-f127-42ea-ad90-ede01303a12f",
   "metadata": {},
   "outputs": [
    {
     "name": "stdout",
     "output_type": "stream",
     "text": [
      "apple\n",
      "banana\n",
      "cherry\n"
     ]
    },
    {
     "data": {
      "text/plain": [
       "[None, None, None]"
      ]
     },
     "execution_count": 5,
     "metadata": {},
     "output_type": "execute_result"
    }
   ],
   "source": [
    "#list comprehension\n",
    "thislist=[\"apple\",\"banana\",\"cherry\"]\n",
    "[print(x) for x in thislist]"
   ]
  },
  {
   "cell_type": "code",
   "execution_count": 17,
   "id": "db6df930-febf-419f-bb08-6bce9c7c324b",
   "metadata": {},
   "outputs": [
    {
     "name": "stdout",
     "output_type": "stream",
     "text": [
      "Found at 1\n"
     ]
    }
   ],
   "source": [
    "pos=-1\n",
    "def search(list,n) :\n",
    "    i=0\n",
    "    while i<len(list):\n",
    "        if list[i]==n:\n",
    "            globals()['pos']=i\n",
    "            return True\n",
    "        i=i+1\n",
    "    return False\n",
    "list=[5,8,4,6,9,2]\n",
    "n=5\n",
    "if search(list,n):\n",
    "    print(\"Found at\",pos+1)\n",
    "else:\n",
    "    print(\"not found\")"
   ]
  },
  {
   "cell_type": "code",
   "execution_count": 11,
   "id": "8ebcc0ad-7f8e-4ea2-ba41-7be8a53257aa",
   "metadata": {},
   "outputs": [
    {
     "data": {
      "text/plain": [
       "1"
      ]
     },
     "execution_count": 11,
     "metadata": {},
     "output_type": "execute_result"
    }
   ],
   "source": [
    "def binarysearch(array,x,low,high):\n",
    "    while low<=high:\n",
    "        mid=low+(high-low)//2\n",
    "        if x==array[mid]:\n",
    "            return mid\n",
    "        elif x>array[mid]:\n",
    "            low=mid+1\n",
    "        else:\n",
    "            high=mid-1\n",
    "    return -1\n",
    "array=[3,4,5,6,7,8,9]\n",
    "x=4\n",
    "binarysearch(array,x,0,6)"
   ]
  },
  {
   "cell_type": "code",
   "execution_count": 18,
   "id": "e9a7e6a1-2a0e-4f9f-8dd3-81165fb2cca0",
   "metadata": {},
   "outputs": [
    {
     "name": "stdout",
     "output_type": "stream",
     "text": [
      "The youngest child is Emil\n"
     ]
    }
   ],
   "source": [
    "def my_function(child3, child2, child1):\n",
    "  print(\"The youngest child is \" + child3)\n",
    "\n",
    "my_function(\"Emil\", \"Tobias\", \"Linus\")\n"
   ]
  },
  {
   "cell_type": "code",
   "execution_count": 20,
   "id": "5756b87f-bdf1-49a2-be33-06b56f1efb0d",
   "metadata": {},
   "outputs": [
    {
     "name": "stdout",
     "output_type": "stream",
     "text": [
      "apple\n",
      "banana\n",
      "cherry\n"
     ]
    }
   ],
   "source": [
    "def my_function(food):\n",
    "  for x in food:\n",
    "    print(x)\n",
    "\n",
    "a = [\"apple\", \"banana\", \"cherry\"]\n",
    "\n",
    "my_function(a)"
   ]
  },
  {
   "cell_type": "code",
   "execution_count": 1,
   "id": "99330df9-6fd6-45a8-ae88-6e9d32e532e0",
   "metadata": {},
   "outputs": [
    {
     "name": "stdout",
     "output_type": "stream",
     "text": [
      "1\n",
      "3\n",
      "6\n",
      "10\n",
      "15\n",
      "21\n"
     ]
    },
    {
     "data": {
      "text/plain": [
       "21"
      ]
     },
     "execution_count": 1,
     "metadata": {},
     "output_type": "execute_result"
    }
   ],
   "source": [
    "def tri_recursion(k):\n",
    "  if(k > 0):\n",
    "    result = k + tri_recursion(k - 1)\n",
    "    print(result)\n",
    "  else:\n",
    "    result = 0\n",
    "  return result\n",
    "tri_recursion(6)\n"
   ]
  },
  {
   "cell_type": "code",
   "execution_count": 3,
   "id": "01f7e05d-4c7c-4c5e-a4c2-9829a46a8b4f",
   "metadata": {},
   "outputs": [],
   "source": [
    "#selection sort:(1st element as min,compare the other if other is smaller than min then swap)"
   ]
  },
  {
   "cell_type": "code",
   "execution_count": 14,
   "id": "e6564422-6f29-41c1-84fb-a07af34f2372",
   "metadata": {},
   "outputs": [
    {
     "name": "stdout",
     "output_type": "stream",
     "text": [
      "[10, 20, 30, 40, 50, 60]\n"
     ]
    }
   ],
   "source": [
    "#insertion sort\n",
    "def insertionSort(arr):\n",
    "    n=len(arr)gbg\n",
    "    if n<=1:\n",
    "        return\n",
    "    for i in range(1,n):\n",
    "         key=arr[i]\n",
    "         j=i-1\n",
    "         while j>=0 and key<arr[j]:\n",
    "             arr[j+1]=arr[j]\n",
    "             j-=1\n",
    "         arr[j+1]=key\n",
    "arr=[40,20,60,10,50,30]\n",
    "insertionSort(arr)\n",
    "print(arr)"
   ]
  },
  {
   "cell_type": "code",
   "execution_count": 5,
   "id": "b1fa26b7-2d0c-4d86-b1d9-5d484784af38",
   "metadata": {},
   "outputs": [
    {
     "name": "stdout",
     "output_type": "stream",
     "text": [
      "7\n"
     ]
    },
    {
     "ename": "NameError",
     "evalue": "name 'no' is not defined",
     "output_type": "error",
     "traceback": [
      "\u001b[1;31m---------------------------------------------------------------------------\u001b[0m",
      "\u001b[1;31mNameError\u001b[0m                                 Traceback (most recent call last)",
      "Cell \u001b[1;32mIn[5], line 4\u001b[0m\n\u001b[0;32m      2\u001b[0m x \u001b[38;5;241m=\u001b[39m txt\u001b[38;5;241m.\u001b[39mfind(\u001b[38;5;124m\"\u001b[39m\u001b[38;5;124mwelcome\u001b[39m\u001b[38;5;124m\"\u001b[39m)\n\u001b[0;32m      3\u001b[0m \u001b[38;5;28mprint\u001b[39m(x)\n\u001b[1;32m----> 4\u001b[0m y\u001b[38;5;241m=\u001b[39mtxt\u001b[38;5;241m.\u001b[39mfind(no)\n\u001b[0;32m      5\u001b[0m \u001b[38;5;28mprint\u001b[39m(y)\n",
      "\u001b[1;31mNameError\u001b[0m: name 'no' is not defined"
     ]
    }
   ],
   "source": [
    "txt = \"Hello, welcome to my world.\"\n",
    "x = txt.find(\"welcome\")\n",
    "print(x)\n",
    "y=txt.find(no)\n",
    "print(y)"
   ]
  },
  {
   "cell_type": "code",
   "execution_count": 8,
   "id": "a47c7f1d-cfc8-488a-a19d-2f11c28ce89c",
   "metadata": {},
   "outputs": [
    {
     "name": "stdout",
     "output_type": "stream",
     "text": [
      "7\n"
     ]
    },
    {
     "ename": "NameError",
     "evalue": "name 'no' is not defined",
     "output_type": "error",
     "traceback": [
      "\u001b[1;31m---------------------------------------------------------------------------\u001b[0m",
      "\u001b[1;31mNameError\u001b[0m                                 Traceback (most recent call last)",
      "Cell \u001b[1;32mIn[8], line 4\u001b[0m\n\u001b[0;32m      2\u001b[0m x \u001b[38;5;241m=\u001b[39m txt\u001b[38;5;241m.\u001b[39mindex(\u001b[38;5;124m\"\u001b[39m\u001b[38;5;124mwelcome\u001b[39m\u001b[38;5;124m\"\u001b[39m)\n\u001b[0;32m      3\u001b[0m \u001b[38;5;28mprint\u001b[39m(x)\n\u001b[1;32m----> 4\u001b[0m y\u001b[38;5;241m=\u001b[39mtxt\u001b[38;5;241m.\u001b[39mindex(no)\n\u001b[0;32m      5\u001b[0m \u001b[38;5;28mprint\u001b[39m(y)\n",
      "\u001b[1;31mNameError\u001b[0m: name 'no' is not defined"
     ]
    }
   ],
   "source": [
    "txt = \"Hello, welcome to my world.\"\n",
    "x = txt.index(\"welcome\")\n",
    "print(x)\n",
    "y=txt.index(no)\n",
    "print(y)"
   ]
  },
  {
   "cell_type": "code",
   "execution_count": 2,
   "id": "971013fe-04b2-4085-bb00-eb60e707bb7f",
   "metadata": {},
   "outputs": [
    {
     "name": "stdout",
     "output_type": "stream",
     "text": [
      "['apple', 'orange', 'banana', 'cherry']\n"
     ]
    }
   ],
   "source": [
    "thislist = [\"apple\", \"banana\", \"cherry\"]\n",
    "thislist.insert(1,\"orange\")\n",
    "print(thislist)"
   ]
  },
  {
   "cell_type": "code",
   "execution_count": 3,
   "id": "4a1020d9-1f17-4be5-bce1-ffad1cd0e402",
   "metadata": {},
   "outputs": [
    {
     "name": "stdout",
     "output_type": "stream",
     "text": [
      "[]\n"
     ]
    }
   ],
   "source": [
    "thislist = [\"apple\", \"banana\", \"cherry\"]\n",
    "thislist.clear()\n",
    "print(thislist)\n"
   ]
  },
  {
   "cell_type": "code",
   "execution_count": 5,
   "id": "b4a508a0-8ed6-46ee-a0a0-6f645deaaf92",
   "metadata": {},
   "outputs": [
    {
     "name": "stdout",
     "output_type": "stream",
     "text": [
      "apple\n",
      "banana\n",
      "cherry\n"
     ]
    }
   ],
   "source": [
    "fruits = (\"apple\", \"banana\", \"cherry\")\n",
    "(green, yellow, red)=fruits\n",
    "\n",
    "print(green)\n",
    "print(yellow)\n",
    "print(red)\n"
   ]
  },
  {
   "cell_type": "code",
   "execution_count": null,
   "id": "92d9f32f-3e9c-4d29-a32d-550ecafd8bdd",
   "metadata": {},
   "outputs": [],
   "source": []
  }
 ],
 "metadata": {
  "kernelspec": {
   "display_name": "Python 3 (ipykernel)",
   "language": "python",
   "name": "python3"
  },
  "language_info": {
   "codemirror_mode": {
    "name": "ipython",
    "version": 3
   },
   "file_extension": ".py",
   "mimetype": "text/x-python",
   "name": "python",
   "nbconvert_exporter": "python",
   "pygments_lexer": "ipython3",
   "version": "3.12.4"
  }
 },
 "nbformat": 4,
 "nbformat_minor": 5
}
